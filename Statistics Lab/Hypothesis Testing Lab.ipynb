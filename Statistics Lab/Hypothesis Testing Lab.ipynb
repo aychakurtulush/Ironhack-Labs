{
 "cells": [
  {
   "cell_type": "code",
   "execution_count": 1,
   "id": "6ba69de4",
   "metadata": {},
   "outputs": [],
   "source": [
    "import numpy as np\n",
    "import pandas as pd\n",
    "import scipy.stats as stats\n",
    "import matplotlib.pyplot as plt\n",
    "import seaborn as sns\n",
    "\n",
    "%matplotlib inline"
   ]
  },
  {
   "cell_type": "code",
   "execution_count": 2,
   "id": "febafcfc",
   "metadata": {},
   "outputs": [],
   "source": [
    "pop_mean = 120\n",
    "n = 100\n",
    "sam_mean = 130.1\n",
    "std = 21.21"
   ]
  },
  {
   "cell_type": "code",
   "execution_count": 3,
   "id": "8bd43b7b",
   "metadata": {},
   "outputs": [],
   "source": [
    "# The Null Hypothesis (H0) will be: pop_mean = 120\n",
    "# The Alternative Hypothesis (H1 or HA) will be: sam_mean != 120\n",
    "\n",
    "#Our sample size is bigger than 30, therefore our sample distribution will follow a normal distribution "
   ]
  },
  {
   "cell_type": "code",
   "execution_count": 4,
   "id": "6b74b6fd",
   "metadata": {},
   "outputs": [
    {
     "name": "stdout",
     "output_type": "stream",
     "text": [
      "4.761904761904759\n"
     ]
    }
   ],
   "source": [
    "z = (sam_mean - pop_mean) / (std / np.sqrt(n))\n",
    "print(z)"
   ]
  },
  {
   "cell_type": "code",
   "execution_count": 5,
   "id": "805838b0",
   "metadata": {},
   "outputs": [
    {
     "name": "stdout",
     "output_type": "stream",
     "text": [
      "1.6448536269514722\n"
     ]
    }
   ],
   "source": [
    "zc = stats.norm.ppf(0.95)\n",
    "\n",
    "print(zc)"
   ]
  },
  {
   "cell_type": "markdown",
   "id": "20a66534",
   "metadata": {},
   "source": [
    "conculsion: we reject the null hypothesis. average of our sample differes from 120"
   ]
  }
 ],
 "metadata": {
  "kernelspec": {
   "display_name": "Python 3 (ipykernel)",
   "language": "python",
   "name": "python3"
  },
  "language_info": {
   "codemirror_mode": {
    "name": "ipython",
    "version": 3
   },
   "file_extension": ".py",
   "mimetype": "text/x-python",
   "name": "python",
   "nbconvert_exporter": "python",
   "pygments_lexer": "ipython3",
   "version": "3.9.13"
  }
 },
 "nbformat": 4,
 "nbformat_minor": 5
}
