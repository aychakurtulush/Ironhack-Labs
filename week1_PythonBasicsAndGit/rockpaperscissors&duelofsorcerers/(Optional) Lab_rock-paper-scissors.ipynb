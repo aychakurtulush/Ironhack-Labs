{
 "cells": [
  {
   "cell_type": "markdown",
   "metadata": {},
   "source": [
    "<img src=\"https://bit.ly/2VnXWr2\" width=\"100\" align=\"left\">"
   ]
  },
  {
   "cell_type": "markdown",
   "metadata": {},
   "source": [
    "# Rock, Paper & Scissors\n",
    "\n",
    "Let's play the famous game against our computer. You can check the rules [here](https://en.wikipedia.org/wiki/Rock%E2%80%93paper%E2%80%93scissors). \n",
    "\n",
    "## Task\n",
    "Create a program that imitates the playability of the well known game of rock, paper, scissors. Follow the guidelines provided.\n",
    "\n",
    "## Tools\n",
    "1. Loop: **for/while**\n",
    "2. Functions: **input(), print()...**\n",
    "3. Conditional statements: **if, elif, else**\n",
    "4. Definition of functions. Modular programming\n",
    "5. Import modules\n",
    "\n",
    "- **To solve this challenge, the use of functions is recommended.**\n",
    "- <b>Hint: You dont need necessarily to follow the instructions in this notebook to solve the tasks. simply just get the job done effeciently ;) \n",
    "\n",
    "#### 1. Import the choice function of the random module."
   ]
  },
  {
   "cell_type": "code",
   "execution_count": 1,
   "metadata": {},
   "outputs": [],
   "source": [
    "import random #random.choice()"
   ]
  },
  {
   "cell_type": "markdown",
   "metadata": {},
   "source": [
    "#### 2. Create a list that includes the 3 possible gesture options of the game: 'rock', 'paper' or 'scissors'. Store the list in a variable called `gestures`."
   ]
  },
  {
   "cell_type": "code",
   "execution_count": 2,
   "metadata": {},
   "outputs": [],
   "source": [
    "gestures = [\"rock\", \"paper\", \"scissors\"]"
   ]
  },
  {
   "cell_type": "markdown",
   "metadata": {},
   "source": [
    "#### 3. Create a variable called `n_rounds` to store the maximum number of rounds to play in a game. \n",
    "Remember that the number of rounds must be odd: 1, 3, 5, ..."
   ]
  },
  {
   "cell_type": "code",
   "execution_count": 3,
   "metadata": {},
   "outputs": [
    {
     "name": "stdout",
     "output_type": "stream",
     "text": [
      "Enter number of rounds: 5\n",
      "Selected number of rounds: 5\n"
     ]
    }
   ],
   "source": [
    "n_rounds = int(input(\"Enter number of rounds: \"))\n",
    "\n",
    "if n_rounds % 2 == 0:\n",
    "    print(\"Enter an odd number of rounds\")\n",
    "\n",
    "print(\"Selected number of rounds:\", n_rounds)"
   ]
  },
  {
   "cell_type": "markdown",
   "metadata": {},
   "source": [
    "#### 4. Create a variable called `rounds_to_win` to store the number of rounds that a player must win to win the game.\n",
    "**Hint**: the value stored in `rounds_to_win` depends on the value of `n_rounds`. "
   ]
  },
  {
   "cell_type": "code",
   "execution_count": 13,
   "metadata": {},
   "outputs": [],
   "source": [
    " rounds_to_win = int(n_rounds/2 +1)"
   ]
  },
  {
   "cell_type": "markdown",
   "metadata": {},
   "source": [
    "#### 5. Create two variables to store the number of rounds that the computer and the player have won. Call these variables `cpu_score` and `player_score`."
   ]
  },
  {
   "cell_type": "code",
   "execution_count": 5,
   "metadata": {},
   "outputs": [],
   "source": [
    "cpu_score = 0\n",
    "player_score = 0"
   ]
  },
  {
   "cell_type": "markdown",
   "metadata": {},
   "source": [
    "#### 6. Define a function that randomly returns one of the 3 gesture options.\n",
    "You will use this function to simulate the gesture choice of the computer. "
   ]
  },
  {
   "cell_type": "code",
   "execution_count": 6,
   "metadata": {
    "scrolled": true
   },
   "outputs": [],
   "source": [
    "def cpumove():\n",
    "    cpu_move = str(random.choice(gestures))\n",
    "    return cpu_move \n"
   ]
  },
  {
   "cell_type": "markdown",
   "metadata": {},
   "source": [
    "#### 7. Define a function that asks the player which is the gesture he or she wants to show: 'rock', 'paper' or 'scissors'.\n",
    "The player should only be allowed to choose one of the 3 gesture options. If the player's choice is not rock, paper or scissors, keep asking until it is."
   ]
  },
  {
   "cell_type": "code",
   "execution_count": 7,
   "metadata": {},
   "outputs": [],
   "source": [
    "def playermove():\n",
    "    player_move = input(\"Enter a choice (rock, paper, scissors): \")                \n",
    "    return player_move"
   ]
  },
  {
   "cell_type": "markdown",
   "metadata": {},
   "source": [
    "#### 8. Define a function that checks who won a round. \n",
    "The function should return 0 if there is a tie, 1 if the computer wins and 2 if the player wins."
   ]
  },
  {
   "cell_type": "code",
   "execution_count": 8,
   "metadata": {},
   "outputs": [
    {
     "name": "stdout",
     "output_type": "stream",
     "text": [
      "Enter a choice (rock, paper, scissors): rock\n",
      "rock\n",
      "0 0\n",
      "Enter a choice (rock, paper, scissors): rock\n",
      "rock\n",
      "0 0\n",
      "Enter a choice (rock, paper, scissors): rock\n",
      "rock\n",
      "0 0\n",
      "Enter a choice (rock, paper, scissors): rock\n",
      "paper\n",
      "1 0\n",
      "Enter a choice (rock, paper, scissors): rock\n",
      "scissors\n",
      "1 1\n"
     ]
    }
   ],
   "source": [
    "cpu_score = 0\n",
    "player_score = 0\n",
    "rounds_to_win = int(n_rounds/2)\n",
    "for i in range (0,n_rounds):\n",
    "    cpu_move = cpumove()\n",
    "    player_move = playermove()\n",
    "    if cpu_move == player_move:\n",
    "        n_rounds +=1\n",
    "    elif cpu_move == \"rock\":\n",
    "        if player_move == \"scissors\":\n",
    "            cpu_score += 1\n",
    "        elif player_move == \"paper\":\n",
    "            player_score += 1\n",
    "    elif cpu_move == \"scissors\":\n",
    "        if player_move == \"paper\":\n",
    "            cpu_score += 1\n",
    "        elif player_move == \"rock\":\n",
    "            player_score += 1\n",
    "    elif cpu_move == \"paper\":\n",
    "        if player_move == \"rock\":\n",
    "            cpu_score += 1\n",
    "        elif player_move == \"scissors\":\n",
    "            player_score += 1\n",
    "    else:\n",
    "        print(\"error\")\n",
    "    if rounds_to_win == cpu_score or rounds_to_win == player_score:\n",
    "        if player_score < cpu_score:\n",
    "            result = 1\n",
    "        elif cpu_score < player_score:\n",
    "            result = 2\n",
    "        elif player_score == cpu_score:\n",
    "            result = 0\n",
    "        print(result)\n",
    "    print(cpu_move)\n",
    "    print(cpu_score, player_score)"
   ]
  },
  {
   "cell_type": "code",
   "execution_count": 9,
   "metadata": {},
   "outputs": [
    {
     "name": "stdout",
     "output_type": "stream",
     "text": [
      "0\n"
     ]
    }
   ],
   "source": [
    "if player_score < cpu_score:\n",
    "    result = 1\n",
    "elif cpu_score < player_score:\n",
    "    result = 2\n",
    "elif player_score == cpu_score:\n",
    "    result = 0\n",
    "\n",
    "    \n",
    "print(result)"
   ]
  },
  {
   "cell_type": "raw",
   "metadata": {},
   "source": [
    "#### 9. Define a function that prints the choice of the computer, the choice of the player and a message that announces who won the current round. \n",
    "You should also use this function to update the variables that count the number of rounds that the computer and the player have won. The score of the winner increases by one point. If there is a tie, the score does not increase."
   ]
  },
  {
   "cell_type": "code",
   "execution_count": null,
   "metadata": {},
   "outputs": [],
   "source": []
  },
  {
   "cell_type": "code",
   "execution_count": 24,
   "metadata": {},
   "outputs": [
    {
     "name": "stdout",
     "output_type": "stream",
     "text": [
      "Enter a choice (rock, paper, scissors): rock\n",
      "Choice of Computer is: paper\n",
      "The winner of this round is Computer! Computer is: 1 Player is: 0\n",
      "Enter a choice (rock, paper, scissors): rock\n",
      "Choice of Computer is: paper\n",
      "The winner of this round is Computer! Computer is: 2 Player is: 0\n",
      "Enter a choice (rock, paper, scissors): rock\n",
      "Choice of Computer is: rock\n",
      "It's a Tie! Player is: 0 Computer is: 2\n",
      "Enter a choice (rock, paper, scissors): rock\n",
      "Choice of Computer is: rock\n",
      "It's a Tie! Player is: 0 Computer is: 2\n",
      "Enter a choice (rock, paper, scissors): rock\n",
      "Choice of Computer is: paper\n",
      "The winner of this round is Computer! Computer is: 3 Player is: 0\n"
     ]
    },
    {
     "data": {
      "text/plain": [
       "(3, 0)"
      ]
     },
     "execution_count": 24,
     "metadata": {},
     "output_type": "execute_result"
    }
   ],
   "source": [
    "def game(n_rounds):\n",
    "    rounds_to_win = int(n_rounds/2 +1)\n",
    "    global cpu_score\n",
    "    global player_score\n",
    "    cpu_score = 0\n",
    "    player_score = 0\n",
    "    while cpu_score < rounds_to_win and player_score < rounds_to_win:\n",
    "    #for i in range (0,n_rounds):\n",
    "        cpu_move = cpumove()\n",
    "        player_move = playermove()\n",
    "        if cpu_move == player_move:\n",
    "            n_rounds +=1\n",
    "            print(\"Choice of Computer is: \" + str(cpu_move))\n",
    "            print(\"It's a Tie! \" + \"Player is: \" + str(player_score) + \" \" + \"Computer is: \" + str(cpu_score))\n",
    "        elif cpu_move == \"rock\":\n",
    "            if player_move == \"scissors\":\n",
    "                cpu_score += 1\n",
    "                print(\"Choice of Computer is: \" + str(cpu_move))\n",
    "                print(\"The winner of this round is Computer! \" + \"Computer is: \" + str(cpu_score) + \" \" + \"Player is: \" + str(player_score))\n",
    "            elif player_move == \"paper\":\n",
    "                player_score += 1\n",
    "                print(\"Choice of Computer is: \" + str(cpu_move))\n",
    "                print(\"The winner of this round is Player! \" + \"Player is:\" + str(player_score) + \" \" + \"Computer is: \" + str(cpu_score))\n",
    "        elif cpu_move == \"scissors\":\n",
    "            if player_move == \"paper\":\n",
    "                cpu_score += 1\n",
    "                print(\"Choice of Computer is: \" + str(cpu_move))\n",
    "                print(\"The winner of this round is Computer! \" + \"Computer is: \" + str(cpu_score) + \" \" + \"Player is: \" + str(player_score))\n",
    "            elif player_move == \"rock\":\n",
    "                player_score += 1\n",
    "                print(\"Choice of Computer is: \" + str(cpu_move))\n",
    "                print(\"The winner of this round is Player! \" + \"Player is:\" + str(player_score) + \" \" + \"Computer is: \" + str(cpu_score))\n",
    "        elif cpu_move == \"paper\":\n",
    "            if player_move == \"rock\":\n",
    "                cpu_score += 1\n",
    "                print(\"Choice of Computer is: \" + str(cpu_move))\n",
    "                print(\"The winner of this round is Computer! \" + \"Computer is: \" + str(cpu_score) + \" \" + \"Player is: \" + str(player_score))\n",
    "            elif player_move == \"scissors\":\n",
    "                player_score += 1\n",
    "                print(\"Choice of Computer is: \" + str(cpu_move))\n",
    "                print(\"The winner of this round is Player! \" + \"Player is:\" + str(player_score) + \" \" + \"Computer is: \" + str(cpu_score))\n",
    "        else:\n",
    "            print(\"error\")\n",
    "    return(cpu_score, player_score)\n",
    "\n",
    "    \n",
    "game(5)  "
   ]
  },
  {
   "cell_type": "raw",
   "metadata": {},
   "source": [
    "#### 10. Now it's time to code the execution of the game using the functions and variables you defined above. \n",
    "\n",
    "First, create a loop structure that repeats while no player reaches the minimum score necessary to win and the number of rounds is less than the maximum number of rounds to play in a game.  \n",
    "\n",
    "Inside the loop, use the functions and variables above to create the execution of a round: ask for the player's choice, generate the random choice of the computer, show the round results, update the scores, etc. "
   ]
  },
  {
   "cell_type": "code",
   "execution_count": 25,
   "metadata": {},
   "outputs": [
    {
     "name": "stdout",
     "output_type": "stream",
     "text": [
      "Enter a choice (rock, paper, scissors): rock\n",
      "Choice of Computer is: scissors\n",
      "The winner of this round is Player! Player is:1 Computer is: 0\n",
      "Enter a choice (rock, paper, scissors): rock\n",
      "Choice of Computer is: scissors\n",
      "The winner of this round is Player! Player is:2 Computer is: 0\n",
      "Enter a choice (rock, paper, scissors): rock\n",
      "Choice of Computer is: paper\n",
      "The winner of this round is Computer! Computer is: 1 Player is: 2\n",
      "Enter a choice (rock, paper, scissors): rock\n",
      "Choice of Computer is: paper\n",
      "The winner of this round is Computer! Computer is: 2 Player is: 2\n",
      "Enter a choice (rock, paper, scissors): rock\n",
      "Choice of Computer is: rock\n",
      "It's a Tie! Player is: 2 Computer is: 2\n",
      "Enter a choice (rock, paper, scissors): rock\n",
      "Choice of Computer is: rock\n",
      "It's a Tie! Player is: 2 Computer is: 2\n",
      "Enter a choice (rock, paper, scissors): rock\n",
      "Choice of Computer is: paper\n",
      "The winner of this round is Computer! Computer is: 3 Player is: 2\n"
     ]
    },
    {
     "data": {
      "text/plain": [
       "(3, 2)"
      ]
     },
     "execution_count": 25,
     "metadata": {},
     "output_type": "execute_result"
    }
   ],
   "source": [
    "game(5)"
   ]
  },
  {
   "cell_type": "raw",
   "metadata": {},
   "source": [
    "#### 11. Print the winner of the game based on who won more rounds.\n",
    "Remember that the game might be tied. "
   ]
  },
  {
   "cell_type": "code",
   "execution_count": 26,
   "metadata": {
    "scrolled": true
   },
   "outputs": [
    {
     "data": {
      "text/plain": [
       "2"
      ]
     },
     "execution_count": 26,
     "metadata": {},
     "output_type": "execute_result"
    }
   ],
   "source": [
    "player_score"
   ]
  },
  {
   "cell_type": "code",
   "execution_count": 27,
   "metadata": {},
   "outputs": [
    {
     "data": {
      "text/plain": [
       "3"
      ]
     },
     "execution_count": 27,
     "metadata": {},
     "output_type": "execute_result"
    }
   ],
   "source": [
    "cpu_score"
   ]
  },
  {
   "cell_type": "code",
   "execution_count": 28,
   "metadata": {},
   "outputs": [
    {
     "name": "stdout",
     "output_type": "stream",
     "text": [
      "The winner is Computer! Computer is: 3 Player is: 2\n"
     ]
    }
   ],
   "source": [
    "if player_score < cpu_score:\n",
    "    print(\"The winner is Computer! \" + \"Computer is: \" + str(cpu_score) + \" \" + \"Player is: \" + str(player_score))\n",
    "elif cpu_score < player_score:\n",
    "    print(\"The winner is Player! \" + \"Player is:\" + str(player_score) + \" \" + \"Computer is: \" + str(cpu_score))\n",
    "elif player_score == cpu_score:\n",
    "    print(\"It's a Tie! \" + \"Player is: \" + str(player_score) + \" \" + \"Computer is: \" + str(cpu_score))"
   ]
  },
  {
   "cell_type": "markdown",
   "metadata": {},
   "source": [
    "# (Optional) Rock, Paper, Scissors, Lizard & Spock\n",
    "![](images/rpsls.jpg)\n",
    "\n",
    "In this challenge, you need to improve the previous game by adding two new options. To know more about the rules of the improved version of rock, paper, scissors, check this [link](http://www.samkass.com/theories/RPSSL.html). \n",
    "\n",
    "In addition, you will also need to improve how the game interacts with the player: the number of rounds to play, which must be an odd number, will be requested to the user until a valid number is entered. Define a new function to make that request.\n",
    "\n",
    "**Hint**: Try to reuse the code that you already coded in the previous challenge. If your code is efficient, this bonus will only consist of simple modifications to the original game."
   ]
  },
  {
   "cell_type": "raw",
   "metadata": {},
   "source": []
  }
 ],
 "metadata": {
  "kernelspec": {
   "display_name": "Python 3 (ipykernel)",
   "language": "python",
   "name": "python3"
  },
  "language_info": {
   "codemirror_mode": {
    "name": "ipython",
    "version": 3
   },
   "file_extension": ".py",
   "mimetype": "text/x-python",
   "name": "python",
   "nbconvert_exporter": "python",
   "pygments_lexer": "ipython3",
   "version": "3.9.13"
  },
  "toc": {
   "base_numbering": 1,
   "nav_menu": {},
   "number_sections": true,
   "sideBar": true,
   "skip_h1_title": false,
   "title_cell": "Table of Contents",
   "title_sidebar": "Contents",
   "toc_cell": false,
   "toc_position": {},
   "toc_section_display": true,
   "toc_window_display": false
  }
 },
 "nbformat": 4,
 "nbformat_minor": 2
}
