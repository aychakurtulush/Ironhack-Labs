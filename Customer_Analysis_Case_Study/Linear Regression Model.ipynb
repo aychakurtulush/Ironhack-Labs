{
 "cells": [
  {
   "cell_type": "code",
   "execution_count": 1,
   "id": "4a0b116e",
   "metadata": {},
   "outputs": [],
   "source": [
    "import numpy as np\n",
    "import pandas as pd\n",
    "import matplotlib.pyplot as plt\n",
    "%matplotlib inline\n",
    "import seaborn as sns\n",
    "from sklearn.preprocessing import PowerTransformer\n",
    "from sklearn.compose import ColumnTransformer\n",
    "from sklearn.linear_model import LinearRegression\n",
    "from sklearn.model_selection import train_test_split\n",
    "\n",
    "import statsmodels.api as sm\n",
    "from sklearn.metrics import r2_score\n",
    "from sklearn.metrics import mean_squared_error as mse\n",
    "from sklearn.metrics import mean_absolute_error as mae\n",
    "pd.options.display.max_rows = 50\n",
    "## Install xlrd package to load Excel files\n",
    "# conda install openpyxl\n",
    "## conda install xlrd\n",
    "from numpy import asarray\n",
    "from sklearn.preprocessing import OneHotEncoder"
   ]
  },
  {
   "cell_type": "code",
   "execution_count": 2,
   "id": "86aa1c92",
   "metadata": {},
   "outputs": [],
   "source": [
    "RAND_STATE = 34 # for reproducible shuffling\n",
    "TT_RATIO = 0.3 # test/train"
   ]
  },
  {
   "cell_type": "code",
   "execution_count": 3,
   "id": "50b0b819",
   "metadata": {},
   "outputs": [
    {
     "data": {
      "text/plain": [
       "Index(['region', 'customer_lifetime_value', 'response', 'coverage',\n",
       "       'education', 'effective_to_date', 'month', 'employment_status',\n",
       "       'gender', 'income', 'location_code', 'marital_status',\n",
       "       'monthly_premium_auto', 'months_since_last_claim',\n",
       "       'months_since_policy_inception', 'number_of_open_complaints',\n",
       "       'number_of_policies', 'policy_type', 'policy', 'renew_offer_type',\n",
       "       'sales_channel', 'total_claim_amount', 'vehicle_class', 'vehicle_size'],\n",
       "      dtype='object')"
      ]
     },
     "execution_count": 3,
     "metadata": {},
     "output_type": "execute_result"
    }
   ],
   "source": [
    "#Load the dataframe into a variable\n",
    "df = pd.read_csv('Data/Data_Marketing_Customer_Analysis_Round3.csv')\n",
    "df.columns"
   ]
  },
  {
   "cell_type": "markdown",
   "id": "135135f8",
   "metadata": {},
   "source": [
    "## Correlation Heatmap"
   ]
  },
  {
   "cell_type": "code",
   "execution_count": null,
   "id": "2b40cd38",
   "metadata": {},
   "outputs": [],
   "source": [
    "corr = df.corr()"
   ]
  },
  {
   "cell_type": "code",
   "execution_count": null,
   "id": "5db60f6e",
   "metadata": {},
   "outputs": [],
   "source": [
    "sns.heatmap(corr, \n",
    "        xticklabels=corr.columns,\n",
    "        yticklabels=corr.columns, \n",
    "        annot=True, cmap='Reds')"
   ]
  },
  {
   "cell_type": "markdown",
   "id": "7c3b3242",
   "metadata": {},
   "source": [
    "## X/Y Split"
   ]
  },
  {
   "cell_type": "code",
   "execution_count": null,
   "id": "0acf8afe",
   "metadata": {},
   "outputs": [],
   "source": [
    "X = df.drop('total_claim_amount', axis=1)\n",
    "y = df['total_claim_amount']"
   ]
  },
  {
   "cell_type": "markdown",
   "id": "336d79b2",
   "metadata": {},
   "source": [
    "## Numerical/Categorical Split"
   ]
  },
  {
   "cell_type": "code",
   "execution_count": null,
   "id": "73acba52",
   "metadata": {},
   "outputs": [],
   "source": [
    "numericalX = X.select_dtypes(np.number)\n",
    "categoricalX = X.select_dtypes(np.object)"
   ]
  },
  {
   "cell_type": "code",
   "execution_count": null,
   "id": "380574e1",
   "metadata": {},
   "outputs": [],
   "source": [
    "numericalX.columns"
   ]
  },
  {
   "cell_type": "markdown",
   "id": "e9c4c7e7",
   "metadata": {},
   "source": [
    " ## Test/Train Split"
   ]
  },
  {
   "cell_type": "code",
   "execution_count": null,
   "id": "2df7e154",
   "metadata": {},
   "outputs": [],
   "source": [
    "# test-train split\n",
    "X_train, X_test, y_train, y_test = train_test_split(X, y, test_size=TT_RATIO, random_state=RAND_STATE)\n",
    "X_train = pd.DataFrame(X_train)\n",
    "X_test = pd.DataFrame(X_test)\n",
    "X_train.head(3)"
   ]
  },
  {
   "cell_type": "markdown",
   "id": "998acb83",
   "metadata": {},
   "source": [
    "## Standardization"
   ]
  },
  {
   "cell_type": "code",
   "execution_count": null,
   "id": "b8352ec9",
   "metadata": {},
   "outputs": [],
   "source": [
    "pt = PowerTransformer()"
   ]
  },
  {
   "cell_type": "code",
   "execution_count": null,
   "id": "a39e3968",
   "metadata": {},
   "outputs": [],
   "source": []
  },
  {
   "cell_type": "code",
   "execution_count": null,
   "id": "6db825c8",
   "metadata": {},
   "outputs": [],
   "source": [
    "ct = ColumnTransformer([(\"pt\", pt, list(numericalX.columns))],\n",
    "                        remainder='drop',verbose_feature_names_out=True,verbose=True).fit(X_train)\n",
    "X_train_ct = pd.DataFrame(ct.transform(X_train),columns=ct.get_feature_names_out())\n",
    "X_test_ct = pd.DataFrame(ct.transform(X_test),columns=ct.get_feature_names_out())"
   ]
  },
  {
   "cell_type": "code",
   "execution_count": null,
   "id": "592645d9",
   "metadata": {},
   "outputs": [],
   "source": [
    "eqution = 'y~pt__customer_lifetime_value+pt__income+pt__monthly_premium_auto+pt__months_since_last_claim+pt__months_since_policy_inception+pt__number_of_open_complaints+pt__number_of_policies'"
   ]
  },
  {
   "cell_type": "code",
   "execution_count": null,
   "id": "63c39a5d",
   "metadata": {},
   "outputs": [],
   "source": [
    "X_train = pd.DataFrame(X_train_ct)\n",
    "X_test_ct"
   ]
  },
  {
   "cell_type": "markdown",
   "id": "d49964d9",
   "metadata": {},
   "source": [
    "## OLS Modelling"
   ]
  },
  {
   "cell_type": "code",
   "execution_count": null,
   "id": "bc9b94cb",
   "metadata": {},
   "outputs": [],
   "source": [
    "from statsmodels.formula.api import ols"
   ]
  },
  {
   "cell_type": "code",
   "execution_count": null,
   "id": "0ad081f6",
   "metadata": {},
   "outputs": [],
   "source": [
    "X_train_const_ct = sm.add_constant(X_train_ct.to_numpy()) # adding a constant\n",
    "\n",
    "model = sm.OLS(y_train, X_train_const_ct).fit()\n",
    "predictions_train = model.predict(X_train_const_ct)\n",
    "\n",
    "X_test_const_ct = sm.add_constant(X_test_ct) # adding a constant\n",
    "predictions_test = model.predict(X_test_const_ct)\n",
    "print_model = model.summary()\n",
    "print(print_model)"
   ]
  },
  {
   "cell_type": "markdown",
   "id": "1eeec225",
   "metadata": {},
   "source": [
    "There is a significant relationship between dependent variable which is Total Claim Amount and two independent variables which are Income(t=-11.917, p<0.05) and Monthly premium auto(t=48.426, p<0.05)."
   ]
  },
  {
   "cell_type": "code",
   "execution_count": null,
   "id": "a708055f",
   "metadata": {},
   "outputs": [],
   "source": [
    "#smodel=ols(formula=eqution,data=X_train_const_ct).fit()\n",
    "#smodel.summary()"
   ]
  },
  {
   "cell_type": "code",
   "execution_count": null,
   "id": "d5019730",
   "metadata": {},
   "outputs": [],
   "source": [
    "plt.scatter(numericalX['income'], y)\n",
    "plt.title('Relationship between Total Claim Amount and Income')\n",
    "plt.xlabel('Income')\n",
    "plt.ylabel('Total Claim Amount')\n",
    "plt.show()"
   ]
  },
  {
   "cell_type": "code",
   "execution_count": null,
   "id": "dc351009",
   "metadata": {
    "scrolled": true
   },
   "outputs": [],
   "source": [
    "plt.scatter(numericalX['monthly_premium_auto'], y)\n",
    "plt.title('Relationship between Total Claim Amount and Monthly Premium Auto')\n",
    "plt.xlabel('Monthly Premium Auto')\n",
    "plt.ylabel('Total Claim Amount')\n",
    "plt.show()"
   ]
  },
  {
   "cell_type": "code",
   "execution_count": null,
   "id": "1f941c1b",
   "metadata": {},
   "outputs": [],
   "source": [
    "model=LinearRegression()    # model\n",
    "model.fit(X_train_ct, y_train)   # model train"
   ]
  },
  {
   "cell_type": "code",
   "execution_count": null,
   "id": "2c9f6fa1",
   "metadata": {},
   "outputs": [],
   "source": [
    "model.coef_"
   ]
  },
  {
   "cell_type": "code",
   "execution_count": null,
   "id": "51d50f72",
   "metadata": {},
   "outputs": [],
   "source": [
    "model.intercept_"
   ]
  },
  {
   "cell_type": "code",
   "execution_count": null,
   "id": "37fbf1d1",
   "metadata": {},
   "outputs": [],
   "source": [
    "y_pred = pd.DataFrame(model.predict(X_test_ct),columns = ['target_d'] )      # model prediction\n",
    "y_pred_train =  pd.DataFrame(model.predict(X_train_ct),columns = ['target_d'])"
   ]
  },
  {
   "cell_type": "markdown",
   "id": "b01706af",
   "metadata": {},
   "source": [
    "## Model Performance & Error Evaluation"
   ]
  },
  {
   "cell_type": "code",
   "execution_count": null,
   "id": "e7748823",
   "metadata": {},
   "outputs": [],
   "source": [
    "print(mse(y_test,predictions_test))\n",
    "print(mae(y_test,predictions_test))\n",
    "##prediction on the train set\n",
    "print(mse(y_train,predictions_train))"
   ]
  },
  {
   "cell_type": "code",
   "execution_count": null,
   "id": "e6b4ccac",
   "metadata": {},
   "outputs": [],
   "source": [
    "# Make an scatter plot y_pred vs y\n",
    "# What kind of plot you will get if all the all the predictions are ok?\n",
    "# A stright line\n",
    "\n",
    "fig, ax = plt.subplots(1,3,figsize=(14,4))\n",
    "ax[0].plot(predictions_test, y_test, 'o')\n",
    "ax[0].set_xlabel(\"y_test\")\n",
    "ax[0].set_ylabel(\"y_pred\")\n",
    "ax[0].set_title(\"Test Set -Predicted vs real\")\n",
    "\n",
    "# Get a histogram of the residuals ie: y - y_pred.  Homoscdasticity\n",
    "# It resembles a normal distribution?\n",
    "ax[1].hist(y_test - predictions_test)\n",
    "ax[1].set_xlabel(\"Test y-y_pred\")\n",
    "ax[1].set_title(\"Test Set Residual histogram\")\n",
    "\n",
    "ax[2].plot(predictions_test,predictions_test.to_numpy()-predictions_test.to_numpy(),\"o\")\n",
    "ax[2].set_xlabel(\"predited\")\n",
    "ax[2].set_ylabel(\"residuals\")\n",
    "ax[2].set_title(\"Residuals by Predicted\")\n",
    "ax[2].plot(predictions_test,np.zeros(len(predictions_test)),linestyle='dashed')"
   ]
  },
  {
   "cell_type": "code",
   "execution_count": null,
   "id": "ccf4c0d4",
   "metadata": {
    "scrolled": true
   },
   "outputs": [],
   "source": [
    "plt.scatter(y_test, predictions_test)\n",
    "plt.show()"
   ]
  },
  {
   "cell_type": "code",
   "execution_count": null,
   "id": "85c6fa3e",
   "metadata": {},
   "outputs": [],
   "source": [
    "result=pd.DataFrame({\"y_test\": list(y_test),\"y_pred\": list(predictions_test)})"
   ]
  },
  {
   "cell_type": "code",
   "execution_count": null,
   "id": "17cddef3",
   "metadata": {},
   "outputs": [],
   "source": [
    "sns.regplot(x='y_test',y='y_pred', data=result, scatter_kws={\"color\": \"red\"}, line_kws={\"color\": \"black\"})"
   ]
  },
  {
   "cell_type": "markdown",
   "id": "b23978ab",
   "metadata": {},
   "source": [
    "## Feature Importances"
   ]
  },
  {
   "cell_type": "code",
   "execution_count": null,
   "id": "0b40f122",
   "metadata": {},
   "outputs": [],
   "source": [
    "features_importances = pd.DataFrame(data={\n",
    "    'Attribute': X_train.columns,\n",
    "    'Importance': abs(model.coef_.reshape(len(X_train.columns),))\n",
    "})\n",
    "features_importances = features_importances.sort_values(by='Importance', ascending=False)\n",
    "features_importances"
   ]
  },
  {
   "cell_type": "code",
   "execution_count": null,
   "id": "4c9fb5b4",
   "metadata": {},
   "outputs": [],
   "source": [
    "plt.bar(x=features_importances['Attribute'].iloc[:10], height=features_importances['Importance'].iloc[:10], color='#087E8B')\n",
    "plt.title('Feature importance rankings', size=12)\n",
    "plt.xticks(rotation='vertical')\n",
    "plt.show()"
   ]
  },
  {
   "cell_type": "markdown",
   "id": "d28f98a7",
   "metadata": {},
   "source": [
    "## One-Hot Encoding for categorical variables"
   ]
  },
  {
   "cell_type": "code",
   "execution_count": null,
   "id": "d4bdc8e0",
   "metadata": {},
   "outputs": [],
   "source": [
    "df"
   ]
  },
  {
   "cell_type": "code",
   "execution_count": null,
   "id": "78cf16ac",
   "metadata": {},
   "outputs": [],
   "source": [
    "df = df.drop('effective_to_date', axis=1)"
   ]
  },
  {
   "cell_type": "code",
   "execution_count": null,
   "id": "d7c57462",
   "metadata": {},
   "outputs": [],
   "source": [
    "#education\n",
    "ed_map = {\"high school or below\": 0, \"college\":1, \"bachelor\": 1,\"master\":2, \"doctor\":3}\n",
    "ed_map\n",
    "df['education'] = df['education'].map(ed_map)"
   ]
  },
  {
   "cell_type": "code",
   "execution_count": null,
   "id": "3c730c56",
   "metadata": {},
   "outputs": [],
   "source": [
    "df['vehicle_size'].unique()"
   ]
  },
  {
   "cell_type": "code",
   "execution_count": null,
   "id": "1dc77e5b",
   "metadata": {},
   "outputs": [],
   "source": [
    "#employment\n",
    "ep_map = {\"unemployed\": 0, \"employed\":1, 'medical leave':2,'disabled':3, 'retired':4 }\n",
    "ep_map\n",
    "df['employment_status'] = df['employment_status'].map(ep_map)"
   ]
  },
  {
   "cell_type": "code",
   "execution_count": null,
   "id": "1426229d",
   "metadata": {},
   "outputs": [],
   "source": [
    "#region\n",
    "rg_map = {'central':0, 'west region':1, 'east':2, 'north west':3 }\n",
    "rg_map\n",
    "df['region'] = df['region'].map(rg_map)"
   ]
  },
  {
   "cell_type": "code",
   "execution_count": null,
   "id": "2506ffd3",
   "metadata": {},
   "outputs": [],
   "source": [
    "#response\n",
    "rp_map = {'no':0, 'yes':1}\n",
    "rp_map\n",
    "df['response'] = df['response'].map(rp_map)"
   ]
  },
  {
   "cell_type": "code",
   "execution_count": null,
   "id": "fa8add6e",
   "metadata": {},
   "outputs": [],
   "source": [
    "#sales channel\n",
    "sc_map = {'agent':0, 'call center':1, 'branch':2, 'web':3}\n",
    "sc_map\n",
    "df['sales_channel'] = df['sales_channel'].map(sc_map)"
   ]
  },
  {
   "cell_type": "code",
   "execution_count": null,
   "id": "817d98a1",
   "metadata": {},
   "outputs": [],
   "source": [
    "#vehicle_class\n",
    "vc_map = {'four-door car':0, 'suv':1, 'two-door car':2, 'sports car':3, 'luxury car':4,\n",
    "       'luxury suv':5}\n",
    "vc_map\n",
    "df['vehicle_class'] = df['vehicle_class'].map(vc_map)"
   ]
  },
  {
   "cell_type": "code",
   "execution_count": null,
   "id": "35129741",
   "metadata": {},
   "outputs": [],
   "source": [
    "#vehicle_size\n",
    "vs_map = {'medsize':0, 'small':1, 'large':2}\n",
    "vs_map\n",
    "df['vehicle_size'] = df['vehicle_size'].map(vs_map)"
   ]
  },
  {
   "cell_type": "code",
   "execution_count": null,
   "id": "ddf056d0",
   "metadata": {},
   "outputs": [],
   "source": [
    "#vehicle_size\n",
    "vs_map = {'medsize':0, 'small':1, 'large':2}\n",
    "vs_map\n",
    "df['vehicle_size'] = df['vehicle_size'].map(vs_map)"
   ]
  },
  {
   "cell_type": "code",
   "execution_count": null,
   "id": "d6f5e207",
   "metadata": {},
   "outputs": [],
   "source": [
    "df_dummies = pd.get_dummies(df['gender'], sparse=1,drop_first=1)"
   ]
  },
  {
   "cell_type": "code",
   "execution_count": null,
   "id": "7a8c8fdb",
   "metadata": {},
   "outputs": [],
   "source": [
    "df"
   ]
  },
  {
   "cell_type": "code",
   "execution_count": null,
   "id": "b7de89e7",
   "metadata": {},
   "outputs": [],
   "source": [
    "X = df.drop('total_claim_amount', 'coverage','month','gender', 'policy_type', 'policy', 'renew_offer_type)\n",
    "y = df['total_claim_amount']"
   ]
  },
  {
   "cell_type": "code",
   "execution_count": null,
   "id": "a13e18f6",
   "metadata": {},
   "outputs": [],
   "source": [
    "# test-train split\n",
    "X_train, X_test, y_train, y_test = train_test_split(X, y, test_size=TT_RATIO, random_state=RAND_STATE)\n",
    "X_train = pd.DataFrame(X_train)\n",
    "X_test = pd.DataFrame(X_test)\n",
    "X_train.head(3)"
   ]
  },
  {
   "cell_type": "code",
   "execution_count": null,
   "id": "9baccbc5",
   "metadata": {},
   "outputs": [],
   "source": [
    "\n",
    "X_train_ct = pd.DataFrame(ct.transform(X_train),columns=ct.get_feature_names_out())\n",
    "X_test_ct = pd.DataFrame(ct.transform(X_test),columns=ct.get_feature_names_out())"
   ]
  },
  {
   "cell_type": "code",
   "execution_count": null,
   "id": "f978746a",
   "metadata": {},
   "outputs": [],
   "source": [
    "X_train = pd.DataFrame(X_train_ct)\n",
    "X_test_ct"
   ]
  },
  {
   "cell_type": "code",
   "execution_count": null,
   "id": "03dd8ec9",
   "metadata": {},
   "outputs": [],
   "source": [
    "from statsmodels.formula.api import ols"
   ]
  },
  {
   "cell_type": "code",
   "execution_count": null,
   "id": "4606251e",
   "metadata": {},
   "outputs": [],
   "source": [
    "X_train_const_ct = sm.add_constant(X_train_ct.to_numpy()) # adding a constant\n",
    "\n",
    "model = sm.OLS(y_train, X_train_const_ct).fit()\n",
    "predictions_train = model.predict(X_train_const_ct)\n",
    "\n",
    "X_test_const_ct = sm.add_constant(X_test_ct) # adding a constant\n",
    "predictions_test = model.predict(X_test_const_ct)\n",
    "print_model = model.summary()\n",
    "print(print_model)"
   ]
  },
  {
   "cell_type": "code",
   "execution_count": null,
   "id": "b1a2dc33",
   "metadata": {},
   "outputs": [],
   "source": []
  }
 ],
 "metadata": {
  "kernelspec": {
   "display_name": "Python 3 (ipykernel)",
   "language": "python",
   "name": "python3"
  },
  "language_info": {
   "codemirror_mode": {
    "name": "ipython",
    "version": 3
   },
   "file_extension": ".py",
   "mimetype": "text/x-python",
   "name": "python",
   "nbconvert_exporter": "python",
   "pygments_lexer": "ipython3",
   "version": "3.9.13"
  }
 },
 "nbformat": 4,
 "nbformat_minor": 5
}
