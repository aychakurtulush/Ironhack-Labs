{
 "cells": [
  {
   "cell_type": "code",
   "execution_count": null,
   "id": "bba2f314",
   "metadata": {},
   "outputs": [],
   "source": [
    "import numpy as np\n",
    "import pandas as pd\n",
    "import matplotlib.pyplot as plt\n",
    "%matplotlib inline\n",
    "import seaborn as sns\n",
    "import statsmodels.api as sm\n",
    "from scipy.stats import boxcox"
   ]
  },
  {
   "cell_type": "code",
   "execution_count": null,
   "id": "5c9a4fca",
   "metadata": {},
   "outputs": [],
   "source": [
    "df = pd.read_csv('Data/Data_Marketing_Customer_Analysis_Round3.csv')"
   ]
  },
  {
   "cell_type": "code",
   "execution_count": null,
   "id": "2817eab0",
   "metadata": {},
   "outputs": [],
   "source": [
    "df"
   ]
  },
  {
   "cell_type": "code",
   "execution_count": null,
   "id": "e6d1c699",
   "metadata": {},
   "outputs": [],
   "source": [
    "df.drop(\"effective_to_date\", axis = 1)"
   ]
  },
  {
   "cell_type": "code",
   "execution_count": null,
   "id": "ce6ba0a1",
   "metadata": {},
   "outputs": [],
   "source": [
    "#Get the numeric data into dataframe called numerical\n",
    "numerical_columns = df.select_dtypes(include=['int', 'float']).columns"
   ]
  },
  {
   "cell_type": "code",
   "execution_count": null,
   "id": "4386eb3a",
   "metadata": {},
   "outputs": [],
   "source": [
    "numerical = df[numerical_columns]"
   ]
  },
  {
   "cell_type": "code",
   "execution_count": null,
   "id": "72f972a0",
   "metadata": {},
   "outputs": [],
   "source": [
    "numerical"
   ]
  },
  {
   "cell_type": "code",
   "execution_count": null,
   "id": "92f5dda3",
   "metadata": {},
   "outputs": [],
   "source": [
    "#Get the categorical columns in a dataframe called categoricals\n",
    "categorical_columns = df.select_dtypes(include=['object']).columns"
   ]
  },
  {
   "cell_type": "code",
   "execution_count": null,
   "id": "2b47eda4",
   "metadata": {},
   "outputs": [],
   "source": [
    "categoricals = df[categorical_columns]"
   ]
  },
  {
   "cell_type": "code",
   "execution_count": null,
   "id": "8c008400",
   "metadata": {},
   "outputs": [],
   "source": [
    "categoricals"
   ]
  },
  {
   "cell_type": "markdown",
   "id": "95080ddb",
   "metadata": {},
   "source": [
    "Use seaborn library to construct distribution plots for the numerical variables"
   ]
  },
  {
   "cell_type": "code",
   "execution_count": null,
   "id": "d0b7c87f",
   "metadata": {},
   "outputs": [],
   "source": [
    "for col in numerical.columns:\n",
    "    sns.displot(numerical[col])\n",
    "    plt.show()"
   ]
  },
  {
   "cell_type": "markdown",
   "id": "c63cf93c",
   "metadata": {},
   "source": [
    "Use Matplotlib to construct histograms"
   ]
  },
  {
   "cell_type": "code",
   "execution_count": null,
   "id": "b28bb895",
   "metadata": {},
   "outputs": [],
   "source": [
    "numerical.info()"
   ]
  },
  {
   "cell_type": "code",
   "execution_count": null,
   "id": "6d045be4",
   "metadata": {},
   "outputs": [],
   "source": [
    "numerical.hist(figsize=(20,15), grid=False)\n",
    "plt.show()"
   ]
  },
  {
   "cell_type": "markdown",
   "id": "ee319471",
   "metadata": {},
   "source": [
    "Do the distributions for different numerical variables look like a normal distribution"
   ]
  },
  {
   "cell_type": "code",
   "execution_count": null,
   "id": "e99753aa",
   "metadata": {},
   "outputs": [],
   "source": [
    "sns.displot(numerical['total_claim_amount'])\n",
    "plt.show()"
   ]
  },
  {
   "cell_type": "code",
   "execution_count": null,
   "id": "26a98215",
   "metadata": {},
   "outputs": [],
   "source": [
    "sns.displot(numerical['monthly_premium_auto'])\n",
    "plt.show()"
   ]
  },
  {
   "cell_type": "markdown",
   "id": "b57e5e16",
   "metadata": {},
   "source": [
    "For the numerical variables, check the multicollinearity between the input features. multicollinearity does not include the target feature."
   ]
  },
  {
   "cell_type": "code",
   "execution_count": null,
   "id": "38891486",
   "metadata": {},
   "outputs": [],
   "source": [
    "numerical.info()"
   ]
  },
  {
   "cell_type": "code",
   "execution_count": null,
   "id": "1ef0143d",
   "metadata": {},
   "outputs": [],
   "source": [
    "sns.pairplot(numerical)"
   ]
  },
  {
   "cell_type": "code",
   "execution_count": null,
   "id": "677cc971",
   "metadata": {},
   "outputs": [],
   "source": [
    "numerical.corr()"
   ]
  },
  {
   "cell_type": "code",
   "execution_count": null,
   "id": "5b0ec054",
   "metadata": {},
   "outputs": [],
   "source": [
    "corr = numerical.corr()"
   ]
  },
  {
   "cell_type": "markdown",
   "id": "6b721798",
   "metadata": {},
   "source": [
    "Plot the Correlation Heatmap."
   ]
  },
  {
   "cell_type": "code",
   "execution_count": null,
   "id": "9696c493",
   "metadata": {},
   "outputs": [],
   "source": [
    "sns.heatmap(corr, \n",
    "        xticklabels=corr.columns,\n",
    "        yticklabels=corr.columns)"
   ]
  },
  {
   "cell_type": "markdown",
   "id": "c67f4338",
   "metadata": {},
   "source": [
    "(Optional): Drop one of the two features that show a high correlation between them (greater than 0.9). If there is no pair of features that have a high correlation, then do not drop any features."
   ]
  },
  {
   "cell_type": "markdown",
   "id": "efa06354",
   "metadata": {},
   "source": [
    "-There is no pair of features that have a high correlation"
   ]
  }
 ],
 "metadata": {
  "kernelspec": {
   "display_name": "Python 3 (ipykernel)",
   "language": "python",
   "name": "python3"
  },
  "language_info": {
   "codemirror_mode": {
    "name": "ipython",
    "version": 3
   },
   "file_extension": ".py",
   "mimetype": "text/x-python",
   "name": "python",
   "nbconvert_exporter": "python",
   "pygments_lexer": "ipython3",
   "version": "3.9.13"
  }
 },
 "nbformat": 4,
 "nbformat_minor": 5
}
